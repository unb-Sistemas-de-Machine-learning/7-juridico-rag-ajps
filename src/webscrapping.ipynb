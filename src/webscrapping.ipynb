{
 "cells": [
  {
   "cell_type": "markdown",
   "id": "cc64be93",
   "metadata": {},
   "source": [
    "### Imports"
   ]
  },
  {
   "cell_type": "code",
   "execution_count": 18,
   "id": "6c4714f8",
   "metadata": {},
   "outputs": [],
   "source": [
    "import requests\n",
    "from bs4 import BeautifulSoup\n",
    "import re\n",
    "import json\n",
    "import pandas as pd"
   ]
  },
  {
   "cell_type": "markdown",
   "id": "cf7a4ab4",
   "metadata": {},
   "source": [
    "### URLs oficiais dos programas sociais"
   ]
  },
  {
   "cell_type": "code",
   "execution_count": 19,
   "id": "ad4837e2",
   "metadata": {},
   "outputs": [],
   "source": [
    "urls = {\n",
    "    \"Bolsa Família\": \"https://www.gov.br/mds/pt-br/acoes-e-programas/bolsa-familia\",\n",
    "    \"BPC\": \"https://www.gov.br/mds/pt-br/acoes-e-programas/suas/beneficios-assistenciais/beneficio-assistencial-ao-idoso-e-a-pessoa-com-deficiencia-bpc\",\n",
    "    \"Pe-de-Meia\": \"https://www.gov.br/secom/pt-br/acesso-a-informacao/comunicabr/lista-de-acoes-e-programas/pe-de-meia\",\n",
    "}"
   ]
  },
  {
   "cell_type": "markdown",
   "id": "c104a4a0",
   "metadata": {},
   "source": [
    "### Função para extrair texto de uma página"
   ]
  },
  {
   "cell_type": "code",
   "execution_count": 20,
   "id": "bc8f7618",
   "metadata": {},
   "outputs": [],
   "source": [
    "def extrair_texto(url):\n",
    "    response = requests.get(url)\n",
    "    if response.status_code == 200:\n",
    "        soup = BeautifulSoup(response.text, \"html.parser\")\n",
    "        return soup.get_text(separator=\" \").lower()\n",
    "    else:\n",
    "        print(f\"Erro ao acessar {url}: {response.status_code}\")\n",
    "        return \"\""
   ]
  },
  {
   "cell_type": "markdown",
   "id": "5c339d1a",
   "metadata": {},
   "source": [
    "### Função para buscar critérios no texto"
   ]
  },
  {
   "cell_type": "code",
   "execution_count": 21,
   "id": "e82cbd5e",
   "metadata": {},
   "outputs": [],
   "source": [
    "def extrair_criterios(programa, texto):\n",
    "    criterios = {}\n",
    "\n",
    "    if programa == \"Bolsa Família\":\n",
    "        renda = re.search(r\"r\\$\\s*([0-9]+)\\s*,?\\.?([0-9]*)\", texto)\n",
    "        if renda:\n",
    "            criterios[\"renda_per_capita_max\"] = float(renda.group(1))\n",
    "        criterios[\"cad_unico_required\"] = \"cadastro único\" in texto\n",
    "        criterios[\"condicionalidades\"] = []\n",
    "        if \"frequência escolar\" in texto:\n",
    "            criterios[\"condicionalidades\"].append(\"frequência escolar\")\n",
    "        if \"vacinação\" in texto:\n",
    "            criterios[\"condicionalidades\"].append(\"vacinação\")\n",
    "        if \"pré-natal\" in texto:\n",
    "            criterios[\"condicionalidades\"].append(\"pré-natal\")\n",
    "\n",
    "    elif programa == \"BPC\":\n",
    "        if \"65\" in texto:\n",
    "            criterios[\"idade_min_idoso\"] = 65\n",
    "        if \"1/4\" in texto or \"um quarto\" in texto:\n",
    "            criterios[\"renda_per_capita_max_frac_salario_minimo\"] = 0.25\n",
    "        criterios[\"cad_unico_required\"] = \"cadastro único\" in texto\n",
    "        if \"aposentadoria\" in texto or \"pensão\" in texto:\n",
    "            criterios[\"no_acumulo\"] = [\"aposentadoria\", \"pensão\"]\n",
    "\n",
    "    elif programa == \"Pe-de-Meia\":\n",
    "        if re.search(r\"14\\s*a\\s*24\", texto):\n",
    "            criterios[\"faixa_etaria\"] = \"14 a 24 anos\"\n",
    "        elif \"19\" in texto and \"eja\" in texto:\n",
    "            criterios[\"faixa_etaria_eja\"] = \"19 a 24 anos\"\n",
    "\n",
    "        criterios[\"cad_unico_required\"] = \"cadastro único\" in texto\n",
    "        if \"meio salário mínimo\" in texto:\n",
    "            criterios[\"renda_per_capita_max_frac_salario_minimo\"] = 0.5\n",
    "\n",
    "        # Matrícula em escola pública\n",
    "        criterios[\"matricula_publica_required\"] = \"escola pública\" in texto or \"ensino médio\" in texto\n",
    "\n",
    "        # Frequência mínima\n",
    "        if \"80%\" in texto or \"oitenta por cento\" in texto:\n",
    "            criterios[\"frequencia_minima_percent\"] = 80\n",
    "\n",
    "        # CPF obrigatório\n",
    "        criterios[\"cpf_required\"] = \"cpf\" in texto\n",
    "\n",
    "        # Sem necessidade de inscrição manual\n",
    "        criterios[\"inscricao_automatica\"] = \"automática\" in texto or \"sem inscrição\" in texto\n",
    "    return criterios"
   ]
  },
  {
   "cell_type": "markdown",
   "id": "966e76d8",
   "metadata": {},
   "source": [
    "### Montando JSON de critérios"
   ]
  },
  {
   "cell_type": "code",
   "execution_count": 22,
   "id": "c2f9bd9b",
   "metadata": {},
   "outputs": [],
   "source": [
    "todos_criterios = {}\n",
    "for programa, url in urls.items():\n",
    "    texto = extrair_texto(url)\n",
    "    criterios = extrair_criterios(programa, texto)\n",
    "    todos_criterios[programa] = criterios"
   ]
  },
  {
   "cell_type": "markdown",
   "id": "ae988597",
   "metadata": {},
   "source": [
    "### Salvando em arquivo JSON"
   ]
  },
  {
   "cell_type": "code",
   "execution_count": 23,
   "id": "e2facef0",
   "metadata": {},
   "outputs": [
    {
     "name": "stdout",
     "output_type": "stream",
     "text": [
      "Critérios extraídos e salvos em criterios.json\n"
     ]
    }
   ],
   "source": [
    "with open(\"criterios.json\", \"w\", encoding=\"utf-8\") as f:\n",
    "    json.dump(todos_criterios, f, indent=2, ensure_ascii=False)\n",
    "\n",
    "print(\"Critérios extraídos e salvos em criterios.json\")"
   ]
  },
  {
   "cell_type": "code",
   "execution_count": 24,
   "id": "c80499de",
   "metadata": {},
   "outputs": [
    {
     "name": "stdout",
     "output_type": "stream",
     "text": [
      "\n",
      "Tabela final com classificação:\n",
      "          Nome  Idade Sexo  Filhos  Renda Familiar  Pessoas no domicílio  \\\n",
      "0  Maria Silva     32    F       2            1200                     5   \n",
      "1  João Santos     67    M       0             800                     2   \n",
      "2    Ana Costa     25    F       1            2000                     3   \n",
      "\n",
      "   Responsável Categoria   Programa Social  \n",
      "0         True  Mãe Solo  Auxílio Mãe Solo  \n",
      "1        False   Nenhuma            Nenhum  \n",
      "2         True  Mãe Solo  Auxílio Mãe Solo  \n"
     ]
    }
   ],
   "source": [
    "# Carregar os critérios salvos\n",
    "with open(\"criterios.json\", \"r\", encoding=\"utf-8\") as f:\n",
    "    criterios_programas = json.load(f)\n",
    "\n",
    "# Dados de exemplo\n",
    "dados = {\n",
    "    \"Nome\": [\"Maria Silva\", \"João Santos\", \"Ana Costa\"],\n",
    "    \"Idade\": [32, 67, 25],\n",
    "    \"Sexo\": [\"F\", \"M\", \"F\"],\n",
    "    \"Filhos\": [2, 0, 1],\n",
    "    \"Renda Familiar\": [1200, 800, 2000],\n",
    "    \"Pessoas no domicílio\": [5, 2, 3],\n",
    "    \"Responsável\": [True, False, True]\n",
    "}\n",
    "\n",
    "df = pd.DataFrame(dados)\n",
    "\n",
    "# Função para calcular renda per capita\n",
    "def calcular_renda_per_capita(renda, pessoas):\n",
    "    return renda / pessoas\n",
    "\n",
    "# Função para classificar cada pessoa\n",
    "def classificar_categoria(linha):\n",
    "    categorias = []\n",
    "    programas = []\n",
    "\n",
    "    renda_pc = calcular_renda_per_capita(linha[\"Renda Familiar\"], linha[\"Pessoas no domicílio\"])\n",
    "\n",
    "    # Bolsa Família\n",
    "    bf = criterios_programas.get(\"Bolsa Família\", {})\n",
    "    if bf.get(\"renda_per_capita_max\") and renda_pc <= bf[\"renda_per_capita_max\"]:\n",
    "        categorias.append(\"Baixa Renda\")\n",
    "        programas.append(\"Bolsa Família\")\n",
    "\n",
    "    # BPC\n",
    "    bpc = criterios_programas.get(\"BPC\", {})\n",
    "    if bpc.get(\"idade_min_idoso\") and linha[\"Idade\"] >= bpc[\"idade_min_idoso\"]:\n",
    "        if bpc.get(\"renda_per_capita_max_frac_salario_minimo\"):\n",
    "            salario_minimo = 1412  # valor 2025\n",
    "            if renda_pc <= (salario_minimo * bpc[\"renda_per_capita_max_frac_salario_minimo\"]):\n",
    "                categorias.append(\"Terceira Idade\")\n",
    "                programas.append(\"BPC - Idoso\")\n",
    "\n",
    "    # Mãe Solo\n",
    "    if (linha[\"Sexo\"] == \"F\") and (linha[\"Filhos\"] > 0) and (linha[\"Responsável\"]):\n",
    "        categorias.append(\"Mãe Solo\")\n",
    "        programas.append(\"Auxílio Mãe Solo\")\n",
    "\n",
    "    return pd.Series({\n",
    "        \"Categoria\": \", \".join(categorias) if categorias else \"Nenhuma\",\n",
    "        \"Programa Social\": \", \".join(programas) if programas else \"Nenhum\"\n",
    "    })\n",
    "\n",
    "# Aplicar classificação\n",
    "df = pd.concat([df, df.apply(classificar_categoria, axis=1)], axis=1)\n",
    "\n",
    "print(\"\\nTabela final com classificação:\")\n",
    "print(df)"
   ]
  }
 ],
 "metadata": {
  "kernelspec": {
   "display_name": "venv (3.13.3)",
   "language": "python",
   "name": "python3"
  },
  "language_info": {
   "codemirror_mode": {
    "name": "ipython",
    "version": 3
   },
   "file_extension": ".py",
   "mimetype": "text/x-python",
   "name": "python",
   "nbconvert_exporter": "python",
   "pygments_lexer": "ipython3",
   "version": "3.13.3"
  }
 },
 "nbformat": 4,
 "nbformat_minor": 5
}
