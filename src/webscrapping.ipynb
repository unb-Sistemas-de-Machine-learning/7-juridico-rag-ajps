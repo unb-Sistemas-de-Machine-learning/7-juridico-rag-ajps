{
 "cells": [
  {
   "cell_type": "code",
   "execution_count": 2,
   "id": "1015e6f9",
   "metadata": {},
   "outputs": [
    {
     "name": "stdout",
     "output_type": "stream",
     "text": [
      "{\n",
      "  \"Bolsa Família\": {\n",
      "    \"renda_per_capita_max\": 218.0,\n",
      "    \"cad_unico_required\": true,\n",
      "    \"condicionalidades\": []\n",
      "  },\n",
      "  \"BPC\": {\n",
      "    \"idade_min_idoso\": 65,\n",
      "    \"renda_per_capita_max_frac_salario_minimo\": 0.25,\n",
      "    \"cad_unico_required\": true,\n",
      "    \"no_acumulo\": [\n",
      "      \"aposentadoria\",\n",
      "      \"pensão\"\n",
      "    ]\n",
      "  }\n",
      "}\n"
     ]
    }
   ],
   "source": [
    "import requests\n",
    "from bs4 import BeautifulSoup\n",
    "import re\n",
    "import json\n",
    "\n",
    "# URLs oficiais dos programas sociais\n",
    "urls = {\n",
    "    \"Bolsa Família\": \"https://www.gov.br/mds/pt-br/acoes-e-programas/bolsa-familia\",\n",
    "    \"BPC\": \"https://www.gov.br/mds/pt-br/acoes-e-programas/suas/beneficios-assistenciais/beneficio-assistencial-ao-idoso-e-a-pessoa-com-deficiencia-bpc\"\n",
    "}\n",
    "\n",
    "# Função para extrair texto de uma página\n",
    "def extrair_texto(url):\n",
    "    response = requests.get(url)\n",
    "    if response.status_code == 200:\n",
    "        soup = BeautifulSoup(response.text, \"html.parser\")\n",
    "        return soup.get_text(separator=\" \").lower()\n",
    "    else:\n",
    "        print(f\"Erro ao acessar {url}: {response.status_code}\")\n",
    "        return \"\"\n",
    "\n",
    "# Função para buscar critérios no texto\n",
    "def extrair_criterios(programa, texto):\n",
    "    criterios = {}\n",
    "\n",
    "    if programa == \"Bolsa Família\":\n",
    "        renda = re.search(r\"r\\$\\s*([0-9]+)\\s*,?\\.?([0-9]*)\", texto)\n",
    "        if renda:\n",
    "            criterios[\"renda_per_capita_max\"] = float(renda.group(1))\n",
    "        criterios[\"cad_unico_required\"] = \"cadastro único\" in texto\n",
    "        criterios[\"condicionalidades\"] = []\n",
    "        if \"frequência escolar\" in texto:\n",
    "            criterios[\"condicionalidades\"].append(\"frequência escolar\")\n",
    "        if \"vacinação\" in texto:\n",
    "            criterios[\"condicionalidades\"].append(\"vacinação\")\n",
    "        if \"pré-natal\" in texto:\n",
    "            criterios[\"condicionalidades\"].append(\"pré-natal\")\n",
    "\n",
    "    elif programa == \"BPC\":\n",
    "        if \"65\" in texto:\n",
    "            criterios[\"idade_min_idoso\"] = 65\n",
    "        if \"1/4\" in texto or \"um quarto\" in texto:\n",
    "            criterios[\"renda_per_capita_max_frac_salario_minimo\"] = 0.25\n",
    "        criterios[\"cad_unico_required\"] = \"cadastro único\" in texto\n",
    "        if \"aposentadoria\" in texto or \"pensão\" in texto:\n",
    "            criterios[\"no_acumulo\"] = [\"aposentadoria\", \"pensão\"]\n",
    "\n",
    "    return criterios\n",
    "\n",
    "# Montando JSON de critérios\n",
    "todos_criterios = {}\n",
    "for programa, url in urls.items():\n",
    "    texto = extrair_texto(url)\n",
    "    criterios = extrair_criterios(programa, texto)\n",
    "    todos_criterios[programa] = criterios\n",
    "\n",
    "# Exibindo critérios em formato JSON\n",
    "print(json.dumps(todos_criterios, indent=2, ensure_ascii=False))"
   ]
  }
 ],
 "metadata": {
  "kernelspec": {
   "display_name": "venv (3.13.3)",
   "language": "python",
   "name": "python3"
  },
  "language_info": {
   "codemirror_mode": {
    "name": "ipython",
    "version": 3
   },
   "file_extension": ".py",
   "mimetype": "text/x-python",
   "name": "python",
   "nbconvert_exporter": "python",
   "pygments_lexer": "ipython3",
   "version": "3.13.3"
  }
 },
 "nbformat": 4,
 "nbformat_minor": 5
}
